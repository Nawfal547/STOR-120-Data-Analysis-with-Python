{
 "cells": [
  {
   "cell_type": "markdown",
   "metadata": {},
   "source": [
    "# Lab 10: More Regression"
   ]
  },
  {
   "cell_type": "code",
   "execution_count": 2,
   "metadata": {},
   "outputs": [],
   "source": [
    "# Run this cell to set up the notebook, but please don't change it.\n",
    "import numpy as np\n",
    "from datascience import *\n",
    "\n",
    "# These lines set up the plotting functionality and formatting.\n",
    "import matplotlib\n",
    "%matplotlib inline\n",
    "import matplotlib.pyplot as plots\n",
    "plots.style.use('fivethirtyeight')\n",
    "import warnings\n",
    "warnings.simplefilter(action=\"ignore\", category=FutureWarning)"
   ]
  },
  {
   "cell_type": "markdown",
   "metadata": {},
   "source": [
    "# 1. The Dataset\n",
    "\n",
    "In this lab, we are *again* exploring movie screenplays. In particular, we have compiled a list of 5,000 words that occur in conversations between movie characters. For each movie, our dataset tells us the frequency with which each of these words occurs in certain conversations in its screenplay. All words have been converted to lowercase.\n",
    "\n",
    "Run the cell below to read the `movies` table."
   ]
  },
  {
   "cell_type": "code",
   "execution_count": 3,
   "metadata": {},
   "outputs": [
    {
     "data": {
      "text/html": [
       "<table border=\"1\" class=\"dataframe\">\n",
       "    <thead>\n",
       "        <tr>\n",
       "            <th>Title</th> <th>Year</th> <th>Rating</th> <th>Genre</th> <th># Words</th> <th>breez</th> <th>england</th> <th>it</th> <th>bravo</th>\n",
       "        </tr>\n",
       "    </thead>\n",
       "    <tbody>\n",
       "        <tr>\n",
       "            <td>wild wild west</td> <td>1999</td> <td>4.3   </td> <td>comedy</td> <td>3446   </td> <td>0    </td> <td>0      </td> <td>0.0212635</td> <td>0    </td>\n",
       "        </tr>\n",
       "    </tbody>\n",
       "</table>"
      ],
      "text/plain": [
       "Title          | Year | Rating | Genre  | # Words | breez | england | it        | bravo\n",
       "wild wild west | 1999 | 4.3    | comedy | 3446    | 0     | 0       | 0.0212635 | 0"
      ]
     },
     "execution_count": 3,
     "metadata": {},
     "output_type": "execute_result"
    }
   ],
   "source": [
    "movies = Table.read_table('movies.csv')\n",
    "movies.where(\"Title\", \"wild wild west\").select(0, 1, 2, 3, 4, 14, 49, 1042, 4004)"
   ]
  },
  {
   "cell_type": "markdown",
   "metadata": {},
   "source": [
    "The above cell prints a few columns of the row for the comedy movie *Wild Wild West*.  The movie contains 3446 words. The word \"it\" appears 74 times, as it makes up  $\\frac{74}{3446} \\approx 0.021364$ of the words in the movie. The word \"england\" doesn't appear at all.\n",
    "This numerical representation of a body of text, one that describes only the frequencies of individual words, is called a bag-of-words representation. A lot of information is discarded in this representation: the order of the words, the context of each word, who said what, the cast of characters and actors, etc. However, a bag-of-words representation is often used for machine learning applications as a reasonable starting point, because a great deal of information is also retained and expressed in a convenient and compact format."
   ]
  },
  {
   "cell_type": "markdown",
   "metadata": {},
   "source": [
    "All movie titles are unique. The `row_for_title` function provides fast access to the one row for each title. \n",
    "\n",
    "*Note: All movies in our dataset have their titles lower-cased.* "
   ]
  },
  {
   "cell_type": "code",
   "execution_count": 4,
   "metadata": {
    "tags": []
   },
   "outputs": [],
   "source": [
    "title_index = movies.index_by('Title')\n",
    "def row_for_title(title):\n",
    "    \"\"\"Return the row for a title, similar to the following expression (but faster)\n",
    "    \n",
    "    movies.where('Title', title).row(0)\n",
    "    \"\"\"\n",
    "    return title_index.get(title)[0]"
   ]
  },
  {
   "cell_type": "markdown",
   "metadata": {},
   "source": [
    "For example, the fastest way to find the frequency of \"none\" in the movie *The Terminator* is to access the `'none'` item from its row. Check the original table to see if this worked for you!"
   ]
  },
  {
   "cell_type": "code",
   "execution_count": 5,
   "metadata": {},
   "outputs": [
    {
     "data": {
      "text/plain": [
       "0.0009633911368015"
      ]
     },
     "execution_count": 5,
     "metadata": {},
     "output_type": "execute_result"
    }
   ],
   "source": [
    "row_for_title('the terminator').item('none') "
   ]
  },
  {
   "cell_type": "markdown",
   "metadata": {},
   "source": [
    "This dataset was extracted from [a dataset from Cornell University](http://www.cs.cornell.edu/~cristian/Cornell_Movie-Dialogs_Corpus.html). After transforming the dataset (e.g., converting the words to lowercase, removing the naughty words, and converting the counts to frequencies), we created this new dataset containing the frequency of 5000 common words in each movie."
   ]
  },
  {
   "cell_type": "markdown",
   "metadata": {},
   "source": [
    "## 2. Exploratory Data Analysis: Linear Regression"
   ]
  },
  {
   "cell_type": "markdown",
   "metadata": {},
   "source": [
    "The first association we'll investigate is the association between the proportion of words that are `mom` and the proportion of words that are `dad`. As usual, we'll investigate our data visually before performing any numerical analysis.\n",
    "\n",
    "Run the cell below to plot a scatter diagram of dad proportions vs mom proportions and to create the `mom_dad` table."
   ]
  },
  {
   "cell_type": "code",
   "execution_count": 6,
   "metadata": {},
   "outputs": [
    {
     "data": {
      "image/png": "[encoded data removed]",
      "text/plain": [
       "<Figure size 360x360 with 1 Axes>"
      ]
     },
     "metadata": {},
     "output_type": "display_data"
    }
   ],
   "source": [
    "# Just run this cell!\n",
    "mom_dad = movies.select(\"mom\", \"dad\")\n",
    "mom_dad.scatter(\"mom\", \"dad\")\n",
    "plots.axis([-0.0001, 0.0075, -0.0001, 0.0075]);\n",
    "plots.xticks(rotation=45);"
   ]
  },
  {
   "cell_type": "markdown",
   "metadata": {},
   "source": [
    "**Question 2.1.** Looking at that chart it is difficult to see if there is an association. Calculate the correlation coefficient for the association between proportion of words that are `mom` and the proportion of words that are `dad` for every movie in the dataset, and assign it to `mom_dad_r`.\n",
    "\n",
    "<!--\n",
    "BEGIN QUESTION\n",
    "name: q2_1\n",
    "-->"
   ]
  },
  {
   "cell_type": "code",
   "execution_count": 7,
   "metadata": {},
   "outputs": [
    {
     "data": {
      "text/plain": [
       "0.35822388523738152"
      ]
     },
     "execution_count": 7,
     "metadata": {},
     "output_type": "execute_result"
    }
   ],
   "source": [
    "# Our solution took multiple lines\n",
    "# these two arrays should make your code cleaner!\n",
    "mom = movies.column(\"mom\")\n",
    "dad = movies.column(\"dad\")\n",
    "\n",
    "mom_su = (mom - np.mean(mom)) / np.std(mom)\n",
    "dad_su = (dad - np.mean(dad)) / np.std(dad)\n",
    "\n",
    "mom_dad_r = np.mean(mom_su*dad_su)\n",
    "mom_dad_r"
   ]
  },
  {
   "cell_type": "markdown",
   "metadata": {},
   "source": [
    "**Question 2.2.** Calculate the slope and intercept of the regression line using the proportion of the words that are `mom` in the screenplay to predict the proportion of the words that are `dad`. Assign the slope to `mom_dad_slope` and the intercept to `mom_dad_intercept`."
   ]
  },
  {
   "cell_type": "code",
   "execution_count": 8,
   "metadata": {},
   "outputs": [
    {
     "data": {
      "text/plain": [
       "(0.45654520014595967, 0.00027791154075060102)"
      ]
     },
     "execution_count": 8,
     "metadata": {},
     "output_type": "execute_result"
    }
   ],
   "source": [
    "mom_dad_slope = mom_dad_r * np.std(dad)/ np.std(mom)\n",
    "\n",
    "mom_dad_intercept = np.average(dad) - mom_dad_slope * np.average(mom)\n",
    "\n",
    "mom_dad_slope, mom_dad_intercept"
   ]
  },
  {
   "cell_type": "markdown",
   "metadata": {},
   "source": [
    "**Question 2.3.** Choose two *different* words in the dataset with a correlation higher than 0.2 or smaller than -0.2 that are not `mom` and `dad` and plot a scatter plot with a line of best fit for them. The code to plot the scatter plot and line of best fit is given for you, you just need to calculate the correct values to `new_r`, `new_slope` and `new_intercept`.\n",
    "\n",
    "*Hint: It's easier to think of words with a positive correlation, i.e. words that are often mentioned together*.\n",
    "\n",
    "*Hint 2: Try to think of common phrases or idioms*.\n",
    "\n",
    "<!--\n",
    "BEGIN QUESTION\n",
    "name: q2_3\n",
    "manual: true\n",
    "image: true\n",
    "-->\n",
    "<!-- EXPORT TO PDF -->"
   ]
  },
  {
   "cell_type": "code",
   "execution_count": 9,
   "metadata": {
    "export_pdf": true
   },
   "outputs": [
    {
     "data": {
      "image/png": "[encoded data removed]",
      "text/plain": [
       "<Figure size 360x360 with 1 Axes>"
      ]
     },
     "metadata": {},
     "output_type": "display_data"
    }
   ],
   "source": [
    "word_x = \"sister\"\n",
    "word_y = \"brother\"\n",
    "\n",
    "# These arrays should make your code cleaner!\n",
    "arr_x = movies.column(word_x)\n",
    "arr_y = movies.column(word_y)\n",
    "\n",
    "x_su = (arr_x - np.mean(arr_x)) / np.std(arr_x)\n",
    "y_su = (arr_y - np.mean(arr_y)) / np.std(arr_y)\n",
    "\n",
    "new_r = np.mean(x_su * y_su)\n",
    "\n",
    "new_slope = new_r * np.std(arr_y) / np.std(arr_x)\n",
    "new_intercept = np.mean(arr_y - new_slope * np.mean(arr_x))\n",
    "\n",
    "# DON'T CHANGE THESE LINES OF CODE\n",
    "movies.scatter(word_x, word_y)\n",
    "max_x = max(movies.column(word_x))\n",
    "plots.title(f\"Correlation: {new_r}, magnitude greater than .2: {abs(new_r) >= 0.2}\")\n",
    "plots.plot([0, max_x * 1.3], [new_intercept, new_intercept + new_slope * (max_x*1.3)], color='gold');"
   ]
  },
  {
   "cell_type": "markdown",
   "metadata": {},
   "source": [
    "**Question 2.4.** Compute the the proportion of the words in a screenplay that are `dad` for a screenplay with `mom` occurring for 0.0005 proportion of the words and for a screenplay with `mom` occurring for 0.0025 proportion of the words\n",
    "\n",
    "<!--\n",
    "BEGIN QUESTION\n",
    "name: q2_4\n",
    "-->"
   ]
  },
  {
   "cell_type": "code",
   "execution_count": 11,
   "metadata": {},
   "outputs": [
    {
     "name": "stdout",
     "output_type": "stream",
     "text": [
      "For a screenplay with 'mom' occurring for 0.0005 proportion of the words, we predict that 'dad' would occur in the screenplay 0.002561 proportion of the words.\n",
      "For a screenplay with 'mom' occurring for 0.0025 proportion of the words, we predict that 'dad' would occur in the screenplay 0.001419 proportion of the words.\n"
     ]
    }
   ],
   "source": [
    "dad_prop_for_mom0005 = mom_dad_slope * .005 + mom_dad_intercept\n",
    "dad_prop_for_mom0025 = mom_dad_slope * .0025 + mom_dad_intercept\n",
    "\n",
    "# Here is a helper function to print out your predictions.\n",
    "# Don't modify the code below.\n",
    "def print_prediction(mom, predicted_dad):\n",
    "    print(\"For a screenplay with 'mom' occurring for\", mom,\n",
    "          \"proportion of the words, we predict that 'dad' would occur in the screenplay\", predicted_dad,\n",
    "          \"proportion of the words.\")\n",
    "\n",
    "print_prediction(0.0005, np.round(dad_prop_for_mom0005,6))\n",
    "print_prediction(0.0025, np.round(dad_prop_for_mom0025,6))"
   ]
  },
  {
   "cell_type": "markdown",
   "metadata": {},
   "source": [
    "The next cell plots the line that goes between those two points, which is (a segment of) the regression line."
   ]
  },
  {
   "cell_type": "code",
   "execution_count": 13,
   "metadata": {},
   "outputs": [
    {
     "data": {
      "image/png": "[encoded data removed]",
      "text/plain": [
       "<Figure size 360x360 with 1 Axes>"
      ]
     },
     "metadata": {},
     "output_type": "display_data"
    }
   ],
   "source": [
    "mom_dad.scatter('mom', 'dad')\n",
    "\n",
    "def draw_line(slope=0, intercept=0, x=make_array(-4, 4), color='b'):\n",
    "    y = x*slope + intercept\n",
    "    plots.plot(x, y, color=color)\n",
    "\n",
    "draw_line(\n",
    "    slope = mom_dad_slope,\n",
    "    intercept = mom_dad_intercept,\n",
    "    x = make_array(0.0005, 0.0025)\n",
    ")"
   ]
  },
  {
   "cell_type": "markdown",
   "metadata": {},
   "source": [
    "**Question 2.5.** Make predictions for the proportion of words that are `dad` for each screenplay in the `mom_dad` table.  (Of course, we know exactly what the proportions are! We are doing this so we can see how accurate our predictions are).  Put these numbers into a column in a new table called `dad_predictions` that also includes the columns of the `mom_dad` table.\n",
    "\n",
    "<!--\n",
    "BEGIN QUESTION\n",
    "name: q2_5\n",
    "-->"
   ]
  },
  {
   "cell_type": "code",
   "execution_count": 14,
   "metadata": {},
   "outputs": [
    {
     "data": {
      "text/html": [
       "<table border=\"1\" class=\"dataframe\">\n",
       "    <thead>\n",
       "        <tr>\n",
       "            <th>mom</th> <th>dad</th> <th>predictions</th>\n",
       "        </tr>\n",
       "    </thead>\n",
       "    <tbody>\n",
       "        <tr>\n",
       "            <td>0.000198926</td> <td>0.000198926</td> <td>0.00036873 </td>\n",
       "        </tr>\n",
       "        <tr>\n",
       "            <td>0          </td> <td>0          </td> <td>0.000277912</td>\n",
       "        </tr>\n",
       "        <tr>\n",
       "            <td>0          </td> <td>0.000374322</td> <td>0.000277912</td>\n",
       "        </tr>\n",
       "        <tr>\n",
       "            <td>0.000330797</td> <td>0.000330797</td> <td>0.000428935</td>\n",
       "        </tr>\n",
       "        <tr>\n",
       "            <td>0          </td> <td>0          </td> <td>0.000277912</td>\n",
       "        </tr>\n",
       "        <tr>\n",
       "            <td>0          </td> <td>0          </td> <td>0.000277912</td>\n",
       "        </tr>\n",
       "        <tr>\n",
       "            <td>0.000415455</td> <td>0          </td> <td>0.000467585</td>\n",
       "        </tr>\n",
       "        <tr>\n",
       "            <td>0.000204457</td> <td>0.000408914</td> <td>0.000371255</td>\n",
       "        </tr>\n",
       "        <tr>\n",
       "            <td>0.000378215</td> <td>0.00075643 </td> <td>0.000450584</td>\n",
       "        </tr>\n",
       "        <tr>\n",
       "            <td>0          </td> <td>0          </td> <td>0.000277912</td>\n",
       "        </tr>\n",
       "    </tbody>\n",
       "</table>\n",
       "<p>... (360 rows omitted)</p>"
      ],
      "text/plain": [
       "mom         | dad         | predictions\n",
       "0.000198926 | 0.000198926 | 0.00036873\n",
       "0           | 0           | 0.000277912\n",
       "0           | 0.000374322 | 0.000277912\n",
       "0.000330797 | 0.000330797 | 0.000428935\n",
       "0           | 0           | 0.000277912\n",
       "0           | 0           | 0.000277912\n",
       "0.000415455 | 0           | 0.000467585\n",
       "0.000204457 | 0.000408914 | 0.000371255\n",
       "0.000378215 | 0.00075643  | 0.000450584\n",
       "0           | 0           | 0.000277912\n",
       "... (360 rows omitted)"
      ]
     },
     "execution_count": 14,
     "metadata": {},
     "output_type": "execute_result"
    }
   ],
   "source": [
    "dad_predictions =  mom_dad.with_column('predictions', (mom_dad_slope * mom_dad.column('mom') + mom_dad_intercept))\n",
    "dad_predictions"
   ]
  },
  {
   "cell_type": "markdown",
   "metadata": {},
   "source": [
    "**Question 2.6.** How close were we?  Compute the *residual* for each screenplay in the dataset.  The residual is the actual proportion of the words that are `dad` minus the predicted proportion of the words that are `dad`.  Add the residuals to `dad_predictions` as a new column called `residual` and name the resulting table `dad_residuals`.\n",
    "\n",
    "<!--\n",
    "BEGIN QUESTION\n",
    "name: q2_5\n",
    "-->"
   ]
  },
  {
   "cell_type": "code",
   "execution_count": 15,
   "metadata": {},
   "outputs": [
    {
     "data": {
      "text/html": [
       "<table border=\"1\" class=\"dataframe\">\n",
       "    <thead>\n",
       "        <tr>\n",
       "            <th>mom</th> <th>dad</th> <th>predictions</th> <th>residual</th>\n",
       "        </tr>\n",
       "    </thead>\n",
       "    <tbody>\n",
       "        <tr>\n",
       "            <td>0.000198926</td> <td>0.000198926</td> <td>0.00036873 </td> <td>-0.000169804</td>\n",
       "        </tr>\n",
       "        <tr>\n",
       "            <td>0          </td> <td>0          </td> <td>0.000277912</td> <td>-0.000277912</td>\n",
       "        </tr>\n",
       "        <tr>\n",
       "            <td>0          </td> <td>0.000374322</td> <td>0.000277912</td> <td>9.641e-05   </td>\n",
       "        </tr>\n",
       "        <tr>\n",
       "            <td>0.000330797</td> <td>0.000330797</td> <td>0.000428935</td> <td>-9.81382e-05</td>\n",
       "        </tr>\n",
       "        <tr>\n",
       "            <td>0          </td> <td>0          </td> <td>0.000277912</td> <td>-0.000277912</td>\n",
       "        </tr>\n",
       "        <tr>\n",
       "            <td>0          </td> <td>0          </td> <td>0.000277912</td> <td>-0.000277912</td>\n",
       "        </tr>\n",
       "        <tr>\n",
       "            <td>0.000415455</td> <td>0          </td> <td>0.000467585</td> <td>-0.000467585</td>\n",
       "        </tr>\n",
       "        <tr>\n",
       "            <td>0.000204457</td> <td>0.000408914</td> <td>0.000371255</td> <td>3.76589e-05 </td>\n",
       "        </tr>\n",
       "        <tr>\n",
       "            <td>0.000378215</td> <td>0.00075643 </td> <td>0.000450584</td> <td>0.000305846 </td>\n",
       "        </tr>\n",
       "        <tr>\n",
       "            <td>0          </td> <td>0          </td> <td>0.000277912</td> <td>-0.000277912</td>\n",
       "        </tr>\n",
       "    </tbody>\n",
       "</table>\n",
       "<p>... (360 rows omitted)</p>"
      ],
      "text/plain": [
       "mom         | dad         | predictions | residual\n",
       "0.000198926 | 0.000198926 | 0.00036873  | -0.000169804\n",
       "0           | 0           | 0.000277912 | -0.000277912\n",
       "0           | 0.000374322 | 0.000277912 | 9.641e-05\n",
       "0.000330797 | 0.000330797 | 0.000428935 | -9.81382e-05\n",
       "0           | 0           | 0.000277912 | -0.000277912\n",
       "0           | 0           | 0.000277912 | -0.000277912\n",
       "0.000415455 | 0           | 0.000467585 | -0.000467585\n",
       "0.000204457 | 0.000408914 | 0.000371255 | 3.76589e-05\n",
       "0.000378215 | 0.00075643  | 0.000450584 | 0.000305846\n",
       "0           | 0           | 0.000277912 | -0.000277912\n",
       "... (360 rows omitted)"
      ]
     },
     "execution_count": 15,
     "metadata": {},
     "output_type": "execute_result"
    }
   ],
   "source": [
    "dad_residuals = dad_predictions.with_column('residual', dad_predictions.column('dad') - dad_predictions.column('predictions'))\n",
    "dad_residuals"
   ]
  },
  {
   "cell_type": "markdown",
   "metadata": {},
   "source": [
    "Here is a plot of the residuals you computed.  Each point corresponds to one screenplay.  It shows how much our prediction over- or under-estimated the proportion of `dad` words in the screenplay. They do not look great..."
   ]
  },
  {
   "cell_type": "code",
   "execution_count": 16,
   "metadata": {},
   "outputs": [
    {
     "data": {
      "image/png": "[encoded data removed]",
      "text/plain": [
       "<Figure size 360x360 with 1 Axes>"
      ]
     },
     "metadata": {},
     "output_type": "display_data"
    }
   ],
   "source": [
    "dad_residuals.scatter(\"mom\", \"residual\", color=\"r\")"
   ]
  },
  {
   "cell_type": "markdown",
   "metadata": {},
   "source": [
    "## 3. Exploratory Data Analysis: Multiple Linear Regression"
   ]
  },
  {
   "cell_type": "markdown",
   "metadata": {},
   "source": [
    "In class we saw that the best fit regression line used to predict y with x minimized the root mean squared error (rmse). \n",
    "\n",
    "$$\n",
    "rmse ~=~ \\sqrt{mean{(y - y_{estimate})}^2}\n",
    "$$\n",
    "\n"
   ]
  },
  {
   "cell_type": "markdown",
   "metadata": {},
   "source": [
    "**Question 3.1.** Define the function below to calculate the root mean squared error for a regression line that uses `word_x` as predictor for the `word_y` (using your words chosen in question 2.3)."
   ]
  },
  {
   "cell_type": "code",
   "execution_count": 17,
   "metadata": {},
   "outputs": [],
   "source": [
    "def x_y_words_rmse(any_slope, any_intercept):\n",
    "\n",
    "    q = movies.column(word_x) * any_slope + any_intercept\n",
    "    t = movies.column(word_y)\n",
    "\n",
    "    return np.mean((t - q) ** 2) ** 0.5"
   ]
  },
  {
   "cell_type": "markdown",
   "metadata": {},
   "source": [
    "Run the cells below to see that the minimize function will (most likely) output the same values for the slope and intercept that you calculated in question 2.3."
   ]
  },
  {
   "cell_type": "code",
   "execution_count": 22,
   "metadata": {},
   "outputs": [
    {
     "data": {
      "text/plain": [
       "array([-0.0054794 ,  0.00028997])"
      ]
     },
     "execution_count": 22,
     "metadata": {},
     "output_type": "execute_result"
    }
   ],
   "source": [
    "minimize(x_y_words_rmse)"
   ]
  },
  {
   "cell_type": "code",
   "execution_count": 23,
   "metadata": {},
   "outputs": [
    {
     "data": {
      "text/plain": [
       "(-0.0054794231918765214, 0.00028996661772915402)"
      ]
     },
     "execution_count": 23,
     "metadata": {},
     "output_type": "execute_result"
    }
   ],
   "source": [
    "new_slope, new_intercept"
   ]
  },
  {
   "cell_type": "markdown",
   "metadata": {},
   "source": [
    "This method of using the minimize function to find the minimum root mean squared value for a function can be extended to nonlinear models as well as to models with multiple predictors. Choose two new words `word_w` and `word_z` that you think may be reasonably correlated with your `word_y`. You will then use these words to construct a multiple regression model to predict the proportion of the words in the script that are your `word_y`, based on the proportions of your w, x, and z words.\n",
    "\n",
    "\n",
    "$$\n",
    "y_{estimate} ~=~ a*word_w + b*word_x + c*word_z + d\n",
    "$$\n",
    "\n",
    "for constants $a$, $b$, $c$, and $d$."
   ]
  },
  {
   "cell_type": "markdown",
   "metadata": {},
   "source": [
    "**Question 3.2.** Define the function below to calculate the root mean squared error for a regression line that uses the w, x, and z words as predictors for the `word_y`."
   ]
  },
  {
   "cell_type": "code",
   "execution_count": 24,
   "metadata": {},
   "outputs": [],
   "source": [
    "w = 'black'\n",
    "z = 'red'\n",
    "\n",
    "def w_x_z_y_words_rmse(a, b, c, d):\n",
    "\n",
    "\n",
    "    p = a * movies.column(w) + b * movies.column(word_x) + c * movies.column(z) + d\n",
    "    ac = movies.column(word_y)\n",
    "\n",
    "    return np.mean((ac - p) ** 2) ** .5"
   ]
  },
  {
   "cell_type": "markdown",
   "metadata": {},
   "source": [
    "**Question 3.3.** Use the minimize function to find the coefficients  $a$, $b$, $c$, and $d$ that result in the minimal root mean squared error."
   ]
  },
  {
   "cell_type": "code",
   "execution_count": 25,
   "metadata": {},
   "outputs": [
    {
     "data": {
      "text/plain": [
       "array([ 0.16806327, -0.00607916, -0.02330293,  0.0002647 ])"
      ]
     },
     "execution_count": 25,
     "metadata": {},
     "output_type": "execute_result"
    }
   ],
   "source": [
    "minimize(w_x_z_y_words_rmse)"
   ]
  },
  {
   "cell_type": "markdown",
   "metadata": {},
   "source": [
    "**Question 3.4.** For the movie The Terminator, what proportion of the words in the script does your model predict will be your `word_y` (using the proportion of your `word_w`, `word_x`, and `word_z`)"
   ]
  },
  {
   "cell_type": "code",
   "execution_count": 26,
   "metadata": {},
   "outputs": [
    {
     "data": {
      "text/plain": [
       "-0.132629625"
      ]
     },
     "execution_count": 26,
     "metadata": {},
     "output_type": "execute_result"
    }
   ],
   "source": [
    ".0111392 * row_for_title('the terminator').item(w) - .000720915  + row_for_title('the terminator').item(word_x) - .13190871\n"
   ]
  },
  {
   "cell_type": "markdown",
   "metadata": {},
   "source": [
    "You have finished lab 10! We'll use this data again in lab 11 in an attempt to classify the genre of movies."
   ]
  }
 ],
 "metadata": {
  "kernelspec": {
   "display_name": "Python 3 (ipykernel)",
   "language": "python",
   "name": "python3"
  },
  "language_info": {
   "codemirror_mode": {
    "name": "ipython",
    "version": 3
   },
   "file_extension": ".py",
   "mimetype": "text/x-python",
   "name": "python",
   "nbconvert_exporter": "python",
   "pygments_lexer": "ipython3",
   "version": "3.9.12"
  }
 },
 "nbformat": 4,
 "nbformat_minor": 4
}
